{
 "cells": [
  {
   "cell_type": "markdown",
   "id": "1d547a38",
   "metadata": {},
   "source": [
    "\n",
    "# 🏠 House Prices - Advanced Regression Techniques\n",
    "\n",
    "This notebook is built for the Kaggle competition using the Ames Housing dataset.  \n",
    "We'll perform:\n",
    "- Data loading and exploration\n",
    "- Basic data cleaning\n",
    "- Feature selection\n",
    "- Model training with RandomForestRegressor\n",
    "- Submission file generation\n"
   ]
  },
  {
   "cell_type": "code",
   "execution_count": 5,
   "id": "366e4bbf",
   "metadata": {},
   "outputs": [
    {
     "name": "stdout",
     "output_type": "stream",
     "text": [
      "Train shape: (1460, 81)\n",
      "Test shape: (1459, 80)\n"
     ]
    }
   ],
   "source": [
    "\n",
    "import pandas as pd\n",
    "import numpy as np\n",
    "from sklearn.ensemble import RandomForestRegressor\n",
    "from sklearn.model_selection import train_test_split\n",
    "from sklearn.metrics import mean_squared_error\n",
    "from sklearn.impute import SimpleImputer\n",
    "\n",
    "train_df = pd.read_csv(\"train.csv\")\n",
    "test_df = pd.read_csv(\"test.csv\")\n",
    "\n",
    "\n",
    "print(\"Train shape:\", train_df.shape)\n",
    "print(\"Test shape:\", test_df.shape)\n"
   ]
  },
  {
   "cell_type": "code",
   "execution_count": 6,
   "id": "8e696673",
   "metadata": {},
   "outputs": [],
   "source": [
    "\n",
    "numerical_cols = train_df.select_dtypes(include=['int64', 'float64']).columns.tolist()\n",
    "numerical_cols.remove('Id')\n",
    "numerical_cols.remove('SalePrice')\n",
    "\n",
    "X = train_df[numerical_cols]\n",
    "y = train_df['SalePrice']\n",
    "X_test = test_df[numerical_cols]\n",
    "\n",
    "imputer = SimpleImputer(strategy='mean')\n",
    "X = imputer.fit_transform(X)\n",
    "X_test = imputer.transform(X_test)\n"
   ]
  },
  {
   "cell_type": "code",
   "execution_count": 7,
   "id": "f0017105",
   "metadata": {},
   "outputs": [
    {
     "name": "stdout",
     "output_type": "stream",
     "text": [
      "✅ submission.csv created.\n"
     ]
    }
   ],
   "source": [
    "\n",
    "model = RandomForestRegressor(n_estimators=100, random_state=42)\n",
    "model.fit(X, y)\n",
    "\n",
    "predictions = model.predict(X_test)\n",
    "submission = pd.DataFrame({\n",
    "    \"Id\": test_df[\"Id\"],\n",
    "    \"SalePrice\": predictions\n",
    "})\n",
    "submission.to_csv(\"submission.csv\", index=False)\n",
    "print(\"✅ submission.csv created.\")\n"
   ]
  }
 ],
 "metadata": {
  "kernelspec": {
   "display_name": "myenv",
   "language": "python",
   "name": "python3"
  },
  "language_info": {
   "codemirror_mode": {
    "name": "ipython",
    "version": 3
   },
   "file_extension": ".py",
   "mimetype": "text/x-python",
   "name": "python",
   "nbconvert_exporter": "python",
   "pygments_lexer": "ipython3",
   "version": "3.13.2"
  }
 },
 "nbformat": 4,
 "nbformat_minor": 5
}
